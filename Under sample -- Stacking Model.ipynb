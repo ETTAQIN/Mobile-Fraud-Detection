{
 "cells": [
  {
   "cell_type": "markdown",
   "metadata": {},
   "source": [
    "# Under Sample -- Stacking Model"
   ]
  },
  {
   "cell_type": "code",
   "execution_count": 11,
   "metadata": {},
   "outputs": [],
   "source": [
    "import pandas as pd\n",
    "import numpy as np"
   ]
  },
  {
   "cell_type": "markdown",
   "metadata": {},
   "source": [
    "## 1. Under Smapling Process"
   ]
  },
  {
   "cell_type": "markdown",
   "metadata": {},
   "source": [
    "Prepare the union bootstrap sample dataset for modeling part."
   ]
  },
  {
   "cell_type": "code",
   "execution_count": 13,
   "metadata": {},
   "outputs": [
    {
     "data": {
      "text/html": [
       "<div>\n",
       "<style scoped>\n",
       "    .dataframe tbody tr th:only-of-type {\n",
       "        vertical-align: middle;\n",
       "    }\n",
       "\n",
       "    .dataframe tbody tr th {\n",
       "        vertical-align: top;\n",
       "    }\n",
       "\n",
       "    .dataframe thead th {\n",
       "        text-align: right;\n",
       "    }\n",
       "</style>\n",
       "<table border=\"1\" class=\"dataframe\">\n",
       "  <thead>\n",
       "    <tr style=\"text-align: right;\">\n",
       "      <th></th>\n",
       "      <th>step</th>\n",
       "      <th>amount</th>\n",
       "      <th>oldbalanceOrg</th>\n",
       "      <th>newbalanceOrig</th>\n",
       "      <th>oldbalanceDest</th>\n",
       "      <th>newbalanceDest</th>\n",
       "      <th>isFraud</th>\n",
       "      <th>type_binary</th>\n",
       "    </tr>\n",
       "  </thead>\n",
       "  <tbody>\n",
       "    <tr>\n",
       "      <th>0</th>\n",
       "      <td>-1.701805</td>\n",
       "      <td>-0.357467</td>\n",
       "      <td>-0.188847</td>\n",
       "      <td>-0.106389</td>\n",
       "      <td>-0.403155</td>\n",
       "      <td>-0.438259</td>\n",
       "      <td>1</td>\n",
       "      <td>1</td>\n",
       "    </tr>\n",
       "    <tr>\n",
       "      <th>1</th>\n",
       "      <td>-1.701805</td>\n",
       "      <td>-0.357467</td>\n",
       "      <td>-0.188847</td>\n",
       "      <td>-0.106389</td>\n",
       "      <td>-0.398142</td>\n",
       "      <td>-0.438259</td>\n",
       "      <td>1</td>\n",
       "      <td>0</td>\n",
       "    </tr>\n",
       "    <tr>\n",
       "      <th>2</th>\n",
       "      <td>-1.701805</td>\n",
       "      <td>-0.099576</td>\n",
       "      <td>-0.128591</td>\n",
       "      <td>-0.106389</td>\n",
       "      <td>-0.401952</td>\n",
       "      <td>-0.427245</td>\n",
       "      <td>0</td>\n",
       "      <td>0</td>\n",
       "    </tr>\n",
       "    <tr>\n",
       "      <th>3</th>\n",
       "      <td>-1.701805</td>\n",
       "      <td>-0.115146</td>\n",
       "      <td>-0.186762</td>\n",
       "      <td>-0.106389</td>\n",
       "      <td>-0.397848</td>\n",
       "      <td>-0.438259</td>\n",
       "      <td>0</td>\n",
       "      <td>1</td>\n",
       "    </tr>\n",
       "    <tr>\n",
       "      <th>4</th>\n",
       "      <td>-1.701805</td>\n",
       "      <td>-0.006590</td>\n",
       "      <td>-0.146456</td>\n",
       "      <td>-0.106389</td>\n",
       "      <td>-0.401672</td>\n",
       "      <td>0.143134</td>\n",
       "      <td>0</td>\n",
       "      <td>1</td>\n",
       "    </tr>\n",
       "  </tbody>\n",
       "</table>\n",
       "</div>"
      ],
      "text/plain": [
       "       step    amount  oldbalanceOrg  newbalanceOrig  oldbalanceDest  \\\n",
       "0 -1.701805 -0.357467      -0.188847       -0.106389       -0.403155   \n",
       "1 -1.701805 -0.357467      -0.188847       -0.106389       -0.398142   \n",
       "2 -1.701805 -0.099576      -0.128591       -0.106389       -0.401952   \n",
       "3 -1.701805 -0.115146      -0.186762       -0.106389       -0.397848   \n",
       "4 -1.701805 -0.006590      -0.146456       -0.106389       -0.401672   \n",
       "\n",
       "   newbalanceDest  isFraud  type_binary  \n",
       "0       -0.438259        1            1  \n",
       "1       -0.438259        1            0  \n",
       "2       -0.427245        0            0  \n",
       "3       -0.438259        0            1  \n",
       "4        0.143134        0            1  "
      ]
     },
     "execution_count": 13,
     "metadata": {},
     "output_type": "execute_result"
    }
   ],
   "source": [
    "# Read Prepared dataset\n",
    "data = pd.read_csv('prepared_data.csv')\n",
    "data.head()"
   ]
  },
  {
   "cell_type": "code",
   "execution_count": 14,
   "metadata": {},
   "outputs": [
    {
     "name": "stdout",
     "output_type": "stream",
     "text": [
      "<class 'pandas.core.frame.DataFrame'>\n",
      "RangeIndex: 2770409 entries, 0 to 2770408\n",
      "Data columns (total 8 columns):\n",
      "step              float64\n",
      "amount            float64\n",
      "oldbalanceOrg     float64\n",
      "newbalanceOrig    float64\n",
      "oldbalanceDest    float64\n",
      "newbalanceDest    float64\n",
      "isFraud           int64\n",
      "type_binary       int64\n",
      "dtypes: float64(6), int64(2)\n",
      "memory usage: 169.1 MB\n"
     ]
    }
   ],
   "source": [
    "data.info()"
   ]
  },
  {
   "cell_type": "code",
   "execution_count": 28,
   "metadata": {},
   "outputs": [
    {
     "name": "stdout",
     "output_type": "stream",
     "text": [
      "Number of Fraud transactions: 8213\n"
     ]
    }
   ],
   "source": [
    "# number of data in the minority class\n",
    "total_isFraud = np.sum(data.isFraud)\n",
    "isFraud_indices = data[data.isFraud == 0].index\n",
    "print(\"Number of Fraud transactions:\", total_isFraud)"
   ]
  },
  {
   "cell_type": "code",
   "execution_count": 27,
   "metadata": {},
   "outputs": [
    {
     "name": "stdout",
     "output_type": "stream",
     "text": [
      "Number of under samples: 337\n"
     ]
    }
   ],
   "source": [
    "# Pick the indices in the majority class\n",
    "legitimate_indices = data[data.isFraud == 0].index\n",
    "\n",
    "# Number of under samples\n",
    "num = int(np.ceil((len(data) - total_isFraud)/total_isFraud))\n",
    "print(\"Number of under samples:\", num)"
   ]
  },
  {
   "cell_type": "code",
   "execution_count": 21,
   "metadata": {},
   "outputs": [],
   "source": [
    "# set random seed 1 \n",
    "# generate 100 samples\n",
    "\n",
    "under_samples = []\n",
    "indices = []\n",
    "np.random.seed(1)\n",
    "\n",
    "for i in range(num):\n",
    "    \n",
    "    # randomly select 8213 indices from the majority class\n",
    "    random_legitimate_indices = np.random.choice(legitimate_indices, total_isFraud, replace=True)\n",
    "    random_legitimate_indices = np.array(random_legitimate_indices)\n",
    "    \n",
    "    # append the 2 indices\n",
    "    under_sample_indices = np.concatenate([isFraud_indices, random_legitimate_indices])\n",
    "    under_sample = data.iloc[under_sample_indices, :]\n",
    "    indices.append(under_sample_indices)\n",
    "    \n",
    "    under_samples.append(under_sample)"
   ]
  },
  {
   "cell_type": "code",
   "execution_count": 26,
   "metadata": {},
   "outputs": [
    {
     "name": "stdout",
     "output_type": "stream",
     "text": [
      "Size of one under-sample: 2770409\n"
     ]
    }
   ],
   "source": [
    "print(\"Size of one under-sample:\", len(under_samples[0]))"
   ]
  },
  {
   "cell_type": "markdown",
   "metadata": {},
   "source": [
    "## 2. Stacking"
   ]
  },
  {
   "cell_type": "markdown",
   "metadata": {},
   "source": [
    "In this section, we prepare three learning models as our first level classification. These models can all be conveniently invoked via the sk-learn library and are listed as follows:\n",
    "* Random Forest Classifier\n",
    "* Extra Trees Classifier\n",
    "* Grandient Boosting Classifier\n",
    "\n",
    "There are 337 under samples with a size of 16426 generated. In the first level function, process every under sample. Firstly, the under samole is splited into 80% development and 20% test sets. The 80% development set is used to train 3 classifiers with 5-fold cross-validatation and obtain 5 prediction sets as the new training dataset for the second level model. "
   ]
  },
  {
   "cell_type": "code",
   "execution_count": 31,
   "metadata": {},
   "outputs": [],
   "source": [
    "from sklearn.model_selection import train_test_split\n",
    "from sklearn.model_selection import StratifiedKFold\n",
    "from sklearn.ensemble import RandomForestClassifier\n",
    "from sklearn.ensemble import ExtraTreesClassifier\n",
    "from sklearn.ensemble import GradientBoostingClassifier\n",
    "from sklearn.linear_model import LogisticRegression\n",
    "from sklearn import metrics\n",
    "from sklearn.metrics import classification_report"
   ]
  },
  {
   "cell_type": "code",
   "execution_count": null,
   "metadata": {},
   "outputs": [],
   "source": []
  }
 ],
 "metadata": {
  "kernelspec": {
   "display_name": "Python 3",
   "language": "python",
   "name": "python3"
  },
  "language_info": {
   "codemirror_mode": {
    "name": "ipython",
    "version": 3
   },
   "file_extension": ".py",
   "mimetype": "text/x-python",
   "name": "python",
   "nbconvert_exporter": "python",
   "pygments_lexer": "ipython3",
   "version": "3.7.1"
  }
 },
 "nbformat": 4,
 "nbformat_minor": 2
}
